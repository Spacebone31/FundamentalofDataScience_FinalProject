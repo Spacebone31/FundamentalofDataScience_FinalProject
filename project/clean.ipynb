{
 "cells": [
  {
   "cell_type": "code",
   "execution_count": 1,
   "metadata": {},
   "outputs": [],
   "source": [
    "import pandas as pd\n",
    "\n",
    "file_path = 'merged_tracks.csv' \n",
    "data = pd.read_csv(file_path)\n",
    "\n",
    "# Drop subsequent duplicates based on 'track_name', keeping the first occurrence\n",
    "data = data.drop_duplicates(subset='track_name', keep='first')\n",
    "\n",
    "cleaned_file_path = 'cleaned_unique_tracks.csv'\n",
    "data.to_csv(cleaned_file_path, index=False)"
   ]
  },
  {
   "cell_type": "code",
   "execution_count": 2,
   "metadata": {},
   "outputs": [
    {
     "name": "stdout",
     "output_type": "stream",
     "text": [
      "Index 0: track_name\n",
      "Index 1: artist(s)_name\n",
      "Index 2: artist_count\n",
      "Index 3: released_year\n",
      "Index 4: released_month\n",
      "Index 5: released_day\n",
      "Index 6: in_spotify_playlists\n",
      "Index 7: in_spotify_charts\n",
      "Index 8: streams\n",
      "Index 9: in_apple_playlists\n",
      "Index 10: in_apple_charts\n",
      "Index 11: in_deezer_playlists\n",
      "Index 12: in_deezer_charts\n",
      "Index 13: in_shazam_charts\n",
      "Index 14: bpm\n",
      "Index 15: key\n",
      "Index 16: mode\n",
      "Index 17: danceability_%\n",
      "Index 18: valence_%\n",
      "Index 19: energy_%\n",
      "Index 20: acousticness_%\n",
      "Index 21: instrumentalness_%\n",
      "Index 22: liveness_%\n",
      "Index 23: speechiness_%\n",
      "Index 24: Track\n",
      "Index 25: Album Name\n",
      "Index 26: Artist\n",
      "Index 27: Release Date\n",
      "Index 28: ISRC\n",
      "Index 29: All Time Rank\n",
      "Index 30: Track Score\n",
      "Index 31: Spotify Streams\n",
      "Index 32: Spotify Playlist Count\n",
      "Index 33: Spotify Playlist Reach\n",
      "Index 34: Spotify Popularity\n",
      "Index 35: YouTube Views\n",
      "Index 36: YouTube Likes\n",
      "Index 37: TikTok Posts\n",
      "Index 38: TikTok Likes\n",
      "Index 39: TikTok Views\n",
      "Index 40: YouTube Playlist Reach\n",
      "Index 41: Apple Music Playlist Count\n",
      "Index 42: AirPlay Spins\n",
      "Index 43: SiriusXM Spins\n",
      "Index 44: Deezer Playlist Count\n",
      "Index 45: Deezer Playlist Reach\n",
      "Index 46: Amazon Playlist Count\n",
      "Index 47: Pandora Streams\n",
      "Index 48: Pandora Track Stations\n",
      "Index 49: Soundcloud Streams\n",
      "Index 50: Shazam Counts\n",
      "Index 51: TIDAL Popularity\n",
      "Index 52: Explicit Track\n"
     ]
    }
   ],
   "source": [
    "file_path = 'cleaned_unique_tracks.csv' \n",
    "data = pd.read_csv(file_path)\n",
    "\n",
    "# Display column names with their indexes\n",
    "for idx, col_name in enumerate(data.columns):\n",
    "    print(f\"Index {idx}: {col_name}\")"
   ]
  },
  {
   "cell_type": "code",
   "execution_count": 3,
   "metadata": {},
   "outputs": [],
   "source": [
    "data = data.drop(columns=['YouTube Playlist Reach', 'in_deezer_playlists', 'in_deezer_charts', 'in_shazam_charts', 'key', 'Apple Music Playlist Count', 'AirPlay Spins', 'SiriusXM Spins', 'Deezer Playlist Count', 'Deezer Playlist Reach', 'Amazon Playlist Count', 'Pandora Streams', 'Pandora Track Stations', 'Soundcloud Streams', 'Shazam Counts', 'TIDAL Popularity', 'Explicit Track'])\n",
    "\n",
    "cleaned_data_path = 'cleaned_data.csv'\n",
    "data.to_csv(cleaned_data_path, index=False)"
   ]
  },
  {
   "cell_type": "code",
   "execution_count": 4,
   "metadata": {},
   "outputs": [
    {
     "data": {
      "text/plain": [
       "track_name                 0\n",
       "artist(s)_name             0\n",
       "artist_count               0\n",
       "released_year              0\n",
       "released_month             0\n",
       "released_day               0\n",
       "in_spotify_playlists       0\n",
       "in_spotify_charts          0\n",
       "streams                    0\n",
       "in_apple_playlists         0\n",
       "in_apple_charts            0\n",
       "bpm                        0\n",
       "mode                       0\n",
       "danceability_%             0\n",
       "valence_%                  0\n",
       "energy_%                   0\n",
       "acousticness_%             0\n",
       "instrumentalness_%         0\n",
       "liveness_%                 0\n",
       "speechiness_%              0\n",
       "Track                      0\n",
       "Album Name                 0\n",
       "Artist                     0\n",
       "Release Date               0\n",
       "ISRC                       0\n",
       "All Time Rank              0\n",
       "Track Score                0\n",
       "Spotify Streams            0\n",
       "Spotify Playlist Count     0\n",
       "Spotify Playlist Reach     0\n",
       "Spotify Popularity         6\n",
       "YouTube Views             11\n",
       "YouTube Likes             12\n",
       "TikTok Posts              40\n",
       "TikTok Likes              33\n",
       "TikTok Views              33\n",
       "dtype: int64"
      ]
     },
     "execution_count": 4,
     "metadata": {},
     "output_type": "execute_result"
    }
   ],
   "source": [
    "file_path = 'cleaned_data.csv' \n",
    "data1 = pd.read_csv(file_path)\n",
    "\n",
    "data1.isnull().sum()"
   ]
  },
  {
   "cell_type": "code",
   "execution_count": 5,
   "metadata": {},
   "outputs": [
    {
     "name": "stdout",
     "output_type": "stream",
     "text": [
      "<class 'pandas.core.frame.DataFrame'>\n",
      "RangeIndex: 665 entries, 0 to 664\n",
      "Data columns (total 6 columns):\n",
      " #   Column              Non-Null Count  Dtype  \n",
      "---  ------              --------------  -----  \n",
      " 0   Spotify Popularity  665 non-null    float64\n",
      " 1   YouTube Views       665 non-null    float64\n",
      " 2   YouTube Likes       665 non-null    float64\n",
      " 3   TikTok Posts        665 non-null    float64\n",
      " 4   TikTok Likes        665 non-null    float64\n",
      " 5   TikTok Views        665 non-null    float64\n",
      "dtypes: float64(6)\n",
      "memory usage: 31.3 KB\n"
     ]
    },
    {
     "name": "stderr",
     "output_type": "stream",
     "text": [
      "C:\\Users\\asus\\AppData\\Local\\Temp\\ipykernel_27452\\1875580627.py:17: FutureWarning: A value is trying to be set on a copy of a DataFrame or Series through chained assignment using an inplace method.\n",
      "The behavior will change in pandas 3.0. This inplace method will never work because the intermediate object on which we are setting values always behaves as a copy.\n",
      "\n",
      "For example, when doing 'df[col].method(value, inplace=True)', try using 'df.method({col: value}, inplace=True)' or df[col] = df[col].method(value) instead, to perform the operation inplace on the original object.\n",
      "\n",
      "\n",
      "  data1[column].fillna(mean_value, inplace=True)\n"
     ]
    },
    {
     "data": {
      "text/plain": [
       "track_name                0\n",
       "artist(s)_name            0\n",
       "artist_count              0\n",
       "released_year             0\n",
       "released_month            0\n",
       "released_day              0\n",
       "in_spotify_playlists      0\n",
       "in_spotify_charts         0\n",
       "streams                   0\n",
       "in_apple_playlists        0\n",
       "in_apple_charts           0\n",
       "bpm                       0\n",
       "mode                      0\n",
       "danceability_%            0\n",
       "valence_%                 0\n",
       "energy_%                  0\n",
       "acousticness_%            0\n",
       "instrumentalness_%        0\n",
       "liveness_%                0\n",
       "speechiness_%             0\n",
       "Track                     0\n",
       "Album Name                0\n",
       "Artist                    0\n",
       "Release Date              0\n",
       "ISRC                      0\n",
       "All Time Rank             0\n",
       "Track Score               0\n",
       "Spotify Streams           0\n",
       "Spotify Playlist Count    0\n",
       "Spotify Playlist Reach    0\n",
       "Spotify Popularity        0\n",
       "YouTube Views             0\n",
       "YouTube Likes             0\n",
       "TikTok Posts              0\n",
       "TikTok Likes              0\n",
       "TikTok Views              0\n",
       "dtype: int64"
      ]
     },
     "execution_count": 5,
     "metadata": {},
     "output_type": "execute_result"
    }
   ],
   "source": [
    "# Convert necessary columns to numeric, forcing errors to NaN for non-numeric entries\n",
    "columns_to_convert = [\n",
    "    \"YouTube Views\", \"YouTube Likes\", \"TikTok Posts\",\n",
    "    \"TikTok Likes\", \"TikTok Views\"\n",
    "]\n",
    "for column in columns_to_convert:\n",
    "    data1[column] = pd.to_numeric(data1[column].str.replace(',', ''), errors='coerce')\n",
    "\n",
    "# Replace null values with the column mean\n",
    "columns_with_nulls = [\n",
    "    \"Spotify Popularity\", \"YouTube Views\", \"YouTube Likes\",\n",
    "    \"TikTok Posts\", \"TikTok Likes\", \"TikTok Views\"\n",
    "]\n",
    "\n",
    "for column in columns_with_nulls:\n",
    "    mean_value = data1[column].mean()\n",
    "    data1[column].fillna(mean_value, inplace=True)\n",
    "\n",
    "# Verify the replacement\n",
    "data1[columns_with_nulls].info(), data1[columns_with_nulls].head()\n",
    "\n",
    "\n",
    "cleaned_final_data_path = 'final_data.csv'\n",
    "data1.to_csv(cleaned_final_data_path, index=False)\n"
   ]
  },
  {
   "cell_type": "code",
   "execution_count": 6,
   "metadata": {},
   "outputs": [
    {
     "data": {
      "text/plain": [
       "track_name                0\n",
       "artist(s)_name            0\n",
       "artist_count              0\n",
       "released_year             0\n",
       "released_month            0\n",
       "released_day              0\n",
       "in_spotify_playlists      0\n",
       "in_spotify_charts         0\n",
       "streams                   0\n",
       "in_apple_playlists        0\n",
       "in_apple_charts           0\n",
       "bpm                       0\n",
       "mode                      0\n",
       "danceability_%            0\n",
       "valence_%                 0\n",
       "energy_%                  0\n",
       "acousticness_%            0\n",
       "instrumentalness_%        0\n",
       "liveness_%                0\n",
       "speechiness_%             0\n",
       "Track                     0\n",
       "Album Name                0\n",
       "Artist                    0\n",
       "Release Date              0\n",
       "ISRC                      0\n",
       "All Time Rank             0\n",
       "Track Score               0\n",
       "Spotify Streams           0\n",
       "Spotify Playlist Count    0\n",
       "Spotify Playlist Reach    0\n",
       "Spotify Popularity        0\n",
       "YouTube Views             0\n",
       "YouTube Likes             0\n",
       "TikTok Posts              0\n",
       "TikTok Likes              0\n",
       "TikTok Views              0\n",
       "dtype: int64"
      ]
     },
     "execution_count": 6,
     "metadata": {},
     "output_type": "execute_result"
    }
   ],
   "source": [
    "file_path = 'final_data.csv' \n",
    "data2 = pd.read_csv(file_path)\n",
    "\n",
    "data2.isnull().sum()"
   ]
  }
 ],
 "metadata": {
  "kernelspec": {
   "display_name": "Python 3",
   "language": "python",
   "name": "python3"
  },
  "language_info": {
   "codemirror_mode": {
    "name": "ipython",
    "version": 3
   },
   "file_extension": ".py",
   "mimetype": "text/x-python",
   "name": "python",
   "nbconvert_exporter": "python",
   "pygments_lexer": "ipython3",
   "version": "3.12.6"
  }
 },
 "nbformat": 4,
 "nbformat_minor": 2
}
